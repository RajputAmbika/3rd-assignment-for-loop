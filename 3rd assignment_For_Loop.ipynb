{
 "cells": [
  {
   "cell_type": "code",
   "execution_count": 6,
   "id": "ee9657e0-49b6-4595-b300-79095dfe2f84",
   "metadata": {},
   "outputs": [
    {
     "name": "stdout",
     "output_type": "stream",
     "text": [
      "1 2 3 4 5 6 7 8 9 10 "
     ]
    }
   ],
   "source": [
    "#Basic Level:\n",
    "#1. Write a Python program to print the numbers from 1 to 10 using a `for` loop.\n",
    "for i in range(1,11):\n",
    "    print(i, end=\" \")"
   ]
  },
  {
   "cell_type": "code",
   "execution_count": 8,
   "id": "2b7b4f0d-68ae-49d6-b9ba-01d5a403c03a",
   "metadata": {},
   "outputs": [
    {
     "name": "stdout",
     "output_type": "stream",
     "text": [
      "Sum of all elements in given list:  1021\n"
     ]
    }
   ],
   "source": [
    "#2. Create a program that calculates the sum of all numbers in a list using a `for` loop.\n",
    "\n",
    "y = 0\n",
    "\n",
    "# creating a list\n",
    "list1 = [101, 215, 317, 158, 230]\n",
    "\n",
    "# Iterate each element in list\n",
    "# and add them in variable total\n",
    "for i in range(0, len(list1)):\n",
    "\ty = y + list1[i]\n",
    "\n",
    "# printing total value\n",
    "print(\"Sum of all elements in given list: \", y)\n"
   ]
  },
  {
   "cell_type": "code",
   "execution_count": 12,
   "id": "2083ce1b-29f2-4fb8-9c6d-64d441072432",
   "metadata": {},
   "outputs": [
    {
     "name": "stdin",
     "output_type": "stream",
     "text": [
      "Enter the string to reverse:  ambika\n"
     ]
    },
    {
     "name": "stdout",
     "output_type": "stream",
     "text": [
      "Original String:  ambika\n",
      "Reverse String:  akibma\n"
     ]
    }
   ],
   "source": [
    "#3. Write a program to print the characters of a string in reverse order using a `for` loop.\n",
    "def reverse_for(string):\n",
    "    # Declare a string variable \n",
    "    rstring = ''\n",
    "\n",
    "    # Iterate string with for loop\n",
    "    for x in string:\n",
    "        # Appending chars in reverse order\n",
    "        rstring = x + rstring\n",
    "    return rstring\n",
    "\n",
    "string = input(\"Enter the string to reverse: \")\n",
    "\n",
    "# Print Original and Reverse string\n",
    "print('Original String: ', string)\n",
    "print('Reverse String: ', reverse_for(string))"
   ]
  },
  {
   "cell_type": "code",
   "execution_count": 1,
   "id": "360aa5c6-1f20-4cf4-9f72-5503d8d194a2",
   "metadata": {},
   "outputs": [
    {
     "name": "stdin",
     "output_type": "stream",
     "text": [
      "Enter a number:  5\n"
     ]
    },
    {
     "name": "stdout",
     "output_type": "stream",
     "text": [
      "Factorial of the given number is:  120\n"
     ]
    }
   ],
   "source": [
    "#4. Develop a program that finds the factorial of a given number using a `for` loop.\n",
    "# take input from the user as an integer and assigns it to the variable n\n",
    "n = int (input (\"Enter a number: \"))\n",
    "#initializes the variable factorial to 1\n",
    "factorial = 1\n",
    "#If n is greater than or equal to 1, it enters a for loop that iterates from 1 to n (inclusive) and multiplies factorial by each value of i in the loop.\n",
    "if n >= 1:\n",
    "    for i in range (1, n+1):\n",
    "        factorial=factorial *i\n",
    "print(\"Factorial of the given number is: \", factorial)"
   ]
  },
  {
   "cell_type": "code",
   "execution_count": 9,
   "id": "b9931f71-8867-43b6-8d00-29966c5973f0",
   "metadata": {},
   "outputs": [
    {
     "name": "stdin",
     "output_type": "stream",
     "text": [
      "Enter the number of which the user wants to print the multiplication table:  5\n"
     ]
    },
    {
     "name": "stdout",
     "output_type": "stream",
     "text": [
      "The Multiplication Table of:  5\n",
      "5 x 1 = 5\n",
      "5 x 2 = 10\n",
      "5 x 3 = 15\n",
      "5 x 4 = 20\n",
      "5 x 5 = 25\n",
      "5 x 6 = 30\n",
      "5 x 7 = 35\n",
      "5 x 8 = 40\n",
      "5 x 9 = 45\n",
      "5 x 10 = 50\n"
     ]
    }
   ],
   "source": [
    "number = int(input (\"Enter the number of which the user wants to print the multiplication table: \"))      \n",
    "# We are using \"for loop\" to iterate the multiplication 10 times       \n",
    "print (\"The Multiplication Table of: \", number)    \n",
    "for count in range(1, 11):      \n",
    "    print (number, 'x', count, '=', number * count)   \n"
   ]
  },
  {
   "cell_type": "code",
   "execution_count": 14,
   "id": "b319770c-f864-4e38-8f7b-7a8f748f45a1",
   "metadata": {},
   "outputs": [
    {
     "name": "stdout",
     "output_type": "stream",
     "text": [
      "1 is odd\n",
      "2 is even\n",
      "3 is odd\n",
      "4 is even\n",
      "5 is odd\n",
      "6 is even\n",
      "7 is odd\n",
      "8 is even\n",
      "9 is odd\n"
     ]
    }
   ],
   "source": [
    "#6. Write a program that counts the number of even and odd numbers in a list using a `for` loop.\n",
    "#create a list of numbers\n",
    "l2=[1,2,3,4,5,6,7,8,9]\n",
    "#use for loop\n",
    "for i in l2:\n",
    "# use if else to check each element in list with condition for Even or odd number\n",
    "    if i%2==0:\n",
    "        print(i,\"is even\")\n",
    "    else:\n",
    "         print(i, \"is odd\")"
   ]
  },
  {
   "cell_type": "code",
   "execution_count": 25,
   "id": "25ddf4d9-d943-4039-a362-706d8a3981ff",
   "metadata": {},
   "outputs": [
    {
     "name": "stdout",
     "output_type": "stream",
     "text": [
      "The square of  1 is : 1\n",
      "The square of  2 is : 4\n",
      "The square of  3 is : 9\n",
      "The square of  4 is : 16\n",
      "The square of  5 is : 25\n"
     ]
    }
   ],
   "source": [
    "#7. Develop a program that prints the squares of numbers from 1 to 5 using a `for` loop.\n",
    "\n",
    "for i in range(1,6):\n",
    "    print(\"The square of \", i, \"is :\", i*i)"
   ]
  },
  {
   "cell_type": "code",
   "execution_count": 23,
   "id": "9baa7af5-ed19-4323-91ca-42e16cb8708c",
   "metadata": {},
   "outputs": [
    {
     "name": "stdin",
     "output_type": "stream",
     "text": [
      "Enter a string:  ambika\n"
     ]
    },
    {
     "name": "stdout",
     "output_type": "stream",
     "text": [
      "The length of the string is:  6\n"
     ]
    }
   ],
   "source": [
    "#8. Create a program to find the length of a string without using the `len()` function.\n",
    "String = input(\"Enter a string: \")\n",
    "count=0\n",
    "for i in String:\n",
    "    count= count+1\n",
    "print(\"The length of the string is: \", count)"
   ]
  },
  {
   "cell_type": "code",
   "execution_count": 37,
   "id": "2dd3474c-2806-4ac7-99e1-6a3e77ee2e8a",
   "metadata": {},
   "outputs": [
    {
     "name": "stdout",
     "output_type": "stream",
     "text": [
      "The average of the numbers in the list is:  30.0\n"
     ]
    }
   ],
   "source": [
    "#9. Write a program that calculates the average of a list of numbers using a `for` loop.\n",
    "list1=[10, 20, 30, 40, 50]\n",
    "avg=0\n",
    "for i in list1:\n",
    "    avg = sum(list1)/len(list1)\n",
    "print(\"The average of the numbers in the list is: \", avg)"
   ]
  },
  {
   "cell_type": "code",
   "execution_count": 41,
   "id": "60d0ba5f-5e36-4bdb-8e87-7a5afae3c481",
   "metadata": {},
   "outputs": [
    {
     "name": "stdin",
     "output_type": "stream",
     "text": [
      "Enter the terms 6\n"
     ]
    },
    {
     "name": "stdout",
     "output_type": "stream",
     "text": [
      "0 1 1 2 3 5 "
     ]
    }
   ],
   "source": [
    "#10. Develop a program that prints the first `n` Fibonacci numbers using a `for` loop.\n",
    "# Program to display the Fibonacci sequence up to n-th term\n",
    "\n",
    "# Enter number of terms needed                   #0,1,1,2,3,5....\n",
    "a=int(input(\"Enter the terms\"))\n",
    "f=0                                         #first element of series\n",
    "s=1                                         #second element of series\n",
    "if a<=0:\n",
    "    print(\"The requested series is\",f)\n",
    "else:\n",
    "    print(f,s,end=\" \")\n",
    "    for x in range(2,a):\n",
    "        next=f+s                           \n",
    "        print(next,end=\" \")\n",
    "        f=s\n",
    "        s=next"
   ]
  },
  {
   "cell_type": "code",
   "execution_count": 1,
   "id": "faac93b7-0307-46d3-9ffc-6632980d62cb",
   "metadata": {},
   "outputs": [
    {
     "name": "stdout",
     "output_type": "stream",
     "text": [
      "[1, 2, 5, 9]\n"
     ]
    }
   ],
   "source": [
    "#Intermediate Level:\n",
    "#11. Write a program to check if a given list contains any duplicates using a `for` loop.\n",
    "lis = [1, 2, 1, 2, 3, 4, 5, 1, 1, 2, 5, 6, 7, 8, 9, 9]\n",
    "x = []\n",
    "y = []\n",
    "for i in lis:\n",
    "\tif i not in x:\n",
    "\t\tx.append(i)\n",
    "for i in x:\n",
    "\tif lis.count(i) > 1:\n",
    "\t\ty.append(i)\n",
    "print(y)\n",
    "\n"
   ]
  },
  {
   "cell_type": "code",
   "execution_count": 116,
   "id": "834e4b94-f252-49a9-a9f4-b2fce8dd4a49",
   "metadata": {},
   "outputs": [
    {
     "name": "stdout",
     "output_type": "stream",
     "text": [
      "Prime numbers between 900 and 1000 are:\n",
      "907\n",
      "911\n",
      "919\n",
      "929\n",
      "937\n",
      "941\n",
      "947\n",
      "953\n",
      "967\n",
      "971\n",
      "977\n",
      "983\n",
      "991\n",
      "997\n"
     ]
    }
   ],
   "source": [
    "#12. Create a program that prints the prime numbers in a given range using a `for` loop.\n",
    "# Python program to display all the prime numbers within an interval\n",
    "\n",
    "lower = 900\n",
    "upper = 1000\n",
    "\n",
    "print(\"Prime numbers between\", lower, \"and\", upper, \"are:\")\n",
    "\n",
    "for num in range(lower, upper + 1):\n",
    "   # all prime numbers are greater than 1\n",
    "   if num > 1:\n",
    "        for i in range(2, num):\n",
    "            if (num % i) == 0:\n",
    "                \n",
    "                break\n",
    "        else:\n",
    "            print(num)"
   ]
  },
  {
   "cell_type": "code",
   "execution_count": 5,
   "id": "24d4020d-a807-4452-894e-3a88868bbf9b",
   "metadata": {},
   "outputs": [
    {
     "name": "stdout",
     "output_type": "stream",
     "text": [
      "No. of vowels : 1\n"
     ]
    }
   ],
   "source": [
    "#13. Develop a program that counts the number of vowels in a string using a `for` loop.\n",
    "# a string using set\n",
    "\n",
    "# Function to count vowel\n",
    "def vowel_count(str):\n",
    "\t\n",
    "\t# Initializing count variable to 0\n",
    "\tcount = 0\n",
    "\t\n",
    "\t# Creating a set of vowels\n",
    "\tvowel = set(\"aeiouAEIOU\")\n",
    "\t\n",
    "\t# Loop to traverse the alphabet\n",
    "\t# in the given string\n",
    "\tfor alphabet in str:\n",
    "\t\n",
    "\t\t# If alphabet is present\n",
    "\t\t# in set vowel\n",
    "\t\tif alphabet in vowel:\n",
    "\t\t\tcount = count + 1\n",
    "\t\n",
    "\tprint(\"No. of vowels :\", count)\n",
    "\t\n",
    "# Driver code\n",
    "str = \"PWskills\"\n",
    "\n",
    "# Function Call\n",
    "vowel_count(str)\n"
   ]
  },
  {
   "cell_type": "code",
   "execution_count": 11,
   "id": "55b692f0-ce9e-4457-9377-20889218f065",
   "metadata": {},
   "outputs": [
    {
     "name": "stdout",
     "output_type": "stream",
     "text": [
      "44\n"
     ]
    }
   ],
   "source": [
    "#14. Write a program to find the maximum element in a 2D list using a nested `for` loop.\n",
    "list2=[]\n",
    "def get_max(list1):\n",
    "    for i in list1:\n",
    "        if type(i)==list:\n",
    "            get_max(i)\n",
    "        else:\n",
    "            list2.append(i)\n",
    "    return max(list2)\n",
    "\n",
    "list1 = [7,17, [18, 32, [5,44], 35], 25]\n",
    "\n",
    "print(get_max(list1))\n",
    "\n",
    "            "
   ]
  },
  {
   "cell_type": "code",
   "execution_count": 16,
   "id": "c231f30d-5d2e-49a8-8179-51aa62e6409b",
   "metadata": {},
   "outputs": [
    {
     "name": "stdout",
     "output_type": "stream",
     "text": [
      "Original list:\n",
      "[10, 20, 10, 30, 10, 40, 10, 50]\n",
      "list after removing elements:\n",
      "[20, 30, 40, 50]\n"
     ]
    }
   ],
   "source": [
    "#15. Create a program that removes all occurrences of a specific element from a list using a `for` loop.\n",
    "# list with integer elements\n",
    "list = [10, 20, 10, 30, 10, 40, 10, 50]\n",
    "# number (n) to be removed\n",
    "n = 10\n",
    "\n",
    "# print original list \n",
    "print (\"Original list:\")\n",
    "print (list)\n",
    "\n",
    "# loop to traverse each element in list\n",
    "# and, remove elements \n",
    "# which are equals to n\n",
    "for x in list:\n",
    "    if x == n:\n",
    "        list.remove(x)\n",
    "\n",
    "# print list after removing given element\n",
    "print (\"list after removing elements:\")\n",
    "print (list)\n",
    "\n"
   ]
  },
  {
   "cell_type": "code",
   "execution_count": 50,
   "id": "7585277b-d238-4c38-8b51-c43c173c9f13",
   "metadata": {},
   "outputs": [
    {
     "name": "stdout",
     "output_type": "stream",
     "text": [
      "_________________________________________________Multiplication table from 2 to 5____________________________________________________________________\n",
      "\n",
      "_____________________________________________________________________________________________________________________________________________________\n",
      "\n",
      " 1 x 1 = 1\t 1 x 2 = 2\t 1 x 3 = 3\t 1 x 4 = 4\t 1 x 5 = 5\t 1 x 6 = 6\t 1 x 7 = 7\t 1 x 8 = 8\t 1 x 9 = 9\t 1 x 10 = 10\t\n",
      "\n",
      " 2 x 1 = 2\t 2 x 2 = 4\t 2 x 3 = 6\t 2 x 4 = 8\t 2 x 5 = 10\t 2 x 6 = 12\t 2 x 7 = 14\t 2 x 8 = 16\t 2 x 9 = 18\t 2 x 10 = 20\t\n",
      "\n",
      " 3 x 1 = 3\t 3 x 2 = 6\t 3 x 3 = 9\t 3 x 4 = 12\t 3 x 5 = 15\t 3 x 6 = 18\t 3 x 7 = 21\t 3 x 8 = 24\t 3 x 9 = 27\t 3 x 10 = 30\t\n",
      "\n",
      " 4 x 1 = 4\t 4 x 2 = 8\t 4 x 3 = 12\t 4 x 4 = 16\t 4 x 5 = 20\t 4 x 6 = 24\t 4 x 7 = 28\t 4 x 8 = 32\t 4 x 9 = 36\t 4 x 10 = 40\t\n",
      "\n",
      " 5 x 1 = 5\t 5 x 2 = 10\t 5 x 3 = 15\t 5 x 4 = 20\t 5 x 5 = 25\t 5 x 6 = 30\t 5 x 7 = 35\t 5 x 8 = 40\t 5 x 9 = 45\t 5 x 10 = 50\t\n",
      "\n"
     ]
    }
   ],
   "source": [
    "#16. Develop a program that generates a multiplication table for numbers from 1 to 5 using a nested `for` loop.\n",
    "print(\"_________________________________________________Multiplication table from 2 to 5____________________________________________________________________\")\n",
    "\n",
    "print()\n",
    "print(\"_____________________________________________________________________________________________________________________________________________________\\n\")\n",
    "for j in range(1, 6):\n",
    "    for k in range(1,11):\n",
    "        print(end=\" \")\n",
    "        print(j, 'x', k,'=', j*k, end=\"\\t\")\n",
    "    print(\"\\n\")\n",
    "       \n"
   ]
  },
  {
   "cell_type": "code",
   "execution_count": 61,
   "id": "5b54a118-1af4-4a99-ab6b-53998653964b",
   "metadata": {},
   "outputs": [
    {
     "name": "stdout",
     "output_type": "stream",
     "text": [
      "Fahrenheit into Celsius\n",
      "108 = 42.22222222222222\n",
      "67 = 19.444444444444443\n",
      "98 = 36.666666666666664\n",
      "104 = 40.0\n",
      "110 = 43.333333333333336\n",
      "65 = 18.333333333333332\n",
      "97 = 36.111111111111114\n"
     ]
    }
   ],
   "source": [
    "#17. Write a program that converts a list of Fahrenheit temperatures to Celsius using a `for` loop.\n",
    "far_list=[108, 67, 98, 104, 110, 65, 97]\n",
    "print(\"Fahrenheit into Celsius\")\n",
    "for i in far_list:\n",
    "    celsius =  ((i-32)*5)/9\n",
    "    float(celsius)\n",
    "    print(i, '=', celsius)\n",
    "    "
   ]
  },
  {
   "cell_type": "code",
   "execution_count": 82,
   "id": "3d522f76-10dd-4cb6-b643-1e1b38d61e1a",
   "metadata": {},
   "outputs": [
    {
     "name": "stdout",
     "output_type": "stream",
     "text": [
      "Common elements in both lists are: \n",
      "5\n",
      "9\n",
      "10\n"
     ]
    }
   ],
   "source": [
    "#18. Create a program to print the common elements from two lists using a `for` loop.\n",
    "lst1= [2, 5, 7, 9, 10]\n",
    "lst2= [3, 5, 9, 8, 10]\n",
    "lst3=\" \"\n",
    "print(\"Common elements in both lists are: \")\n",
    "for i in lst1:\n",
    "    lst3=i\n",
    "    for j in lst2:\n",
    "        if j == lst3:\n",
    "            print(j)\n",
    "\n",
    "        "
   ]
  },
  {
   "cell_type": "code",
   "execution_count": 98,
   "id": "0e96fb48-2579-49d3-9f7a-e01ad7ebe27a",
   "metadata": {},
   "outputs": [
    {
     "name": "stdin",
     "output_type": "stream",
     "text": [
      "Enter row number:  6\n"
     ]
    },
    {
     "name": "stdout",
     "output_type": "stream",
     "text": [
      "* \n",
      "* * \n",
      "* * * \n",
      "* * * * \n",
      "* * * * * \n",
      "* * * * * * \n"
     ]
    }
   ],
   "source": [
    "#19. Develop a program that prints the pattern of right-angled triangles using a `for` loop. Use ‘*’ to draw the pattern\n",
    "x=int(input(\"Enter row number: \"))\n",
    "for i in range (x):\n",
    "    for j in range (i+1):\n",
    "        print(\"*\", end=\" \")\n",
    "    print(\"\")"
   ]
  },
  {
   "cell_type": "code",
   "execution_count": 110,
   "id": "4a5ee83f-5491-41b3-b612-29c8638156e8",
   "metadata": {},
   "outputs": [
    {
     "name": "stdin",
     "output_type": "stream",
     "text": [
      "Enter the first number:  50\n",
      "Enter the second number:  100\n"
     ]
    },
    {
     "name": "stdout",
     "output_type": "stream",
     "text": [
      "GCD of 50 and 100 is: 50\n"
     ]
    }
   ],
   "source": [
    "#20. Write a program to find the greatest common divisor (GCD) of two numbers using a `for` loop.\n",
    "\n",
    "x = int(input(\"Enter the first number: \"))\n",
    "y = int(input(\"Enter the second number: \"))\n",
    "if x > y:\n",
    "    x, y = y, x\n",
    "for i in range(1,x+1):\n",
    "    if x%i == 0 and y%i == 0:\n",
    "        gcd = i\n",
    "\n",
    "print(\"GCD of\", x, \"and\", y, \"is:\", gcd)\n",
    "    "
   ]
  },
  {
   "cell_type": "code",
   "execution_count": 115,
   "id": "7f396605-08ae-4808-8882-80c391d33a63",
   "metadata": {},
   "outputs": [
    {
     "name": "stdout",
     "output_type": "stream",
     "text": [
      "The sum of odd numbers in the list is: 39\n"
     ]
    }
   ],
   "source": [
    "#Advanced Level:\n",
    "#21. Create a program that calculates the sum of the digits of numbers in a list using a 'list comprehension'.\n",
    "#List comprehension offers a shorter syntax when you want to create a new list based on the values of an existing list.\n",
    "oldlist = [5, 8, 10, 15, 19, 20]\n",
    "newlist = []\n",
    "#using for loop to create a new list from the oldlist which consists only odd numbers.\n",
    "for x in oldlist:\n",
    "    if x%2!=0:\n",
    "        newlist.append(x)\n",
    "\n",
    "print(\"The sum of odd numbers in the list is:\", sum(newlist))"
   ]
  },
  {
   "cell_type": "code",
   "execution_count": 8,
   "id": "e239504b-723a-4687-8def-53ec3154ac89",
   "metadata": {},
   "outputs": [
    {
     "name": "stdout",
     "output_type": "stream",
     "text": [
      "3\n",
      "3\n",
      "5\n",
      "7\n"
     ]
    }
   ],
   "source": [
    "#22. Write a program to find the prime factors of a given number using a `for` loop and list comprehension.\n",
    "# Python program to print prime factors\n",
    "\n",
    "import math\n",
    "\n",
    "# A function to print all prime factors of \n",
    "# a given number n\n",
    "def primeFactors(n):\n",
    "\t\n",
    "\t# Print the number of two's that divide n\n",
    "\twhile n % 2 == 0:\n",
    "\t\tprint(2),\n",
    "\t\tn = n / 2\n",
    "\t\t\n",
    "\t# n must be odd at this point\n",
    "\t# so a skip of 2 ( i = i + 2) can be used\n",
    "\tfor i in range(3,int(math.sqrt(n))+1,2):\n",
    "\t\t\n",
    "\t\t# while i divides n , print i and divide n\n",
    "\t\twhile n % i== 0:\n",
    "\t\t\tprint(i),\n",
    "\t\t\tn = n / i\n",
    "\t\t\t\n",
    "\t# Condition if n is a prime\n",
    "\t# number greater than 2\n",
    "\tif n > 2:\n",
    "\t\tprint (n)\n",
    "\t\t\n",
    "# Driver Program to test above function\n",
    "\n",
    "n = 315\n",
    "primeFactors(n)"
   ]
  },
  {
   "cell_type": "code",
   "execution_count": 3,
   "id": "6d71ad0a-5ea5-41f9-a923-13d4eb1b45b8",
   "metadata": {},
   "outputs": [
    {
     "name": "stdout",
     "output_type": "stream",
     "text": [
      "the unique values from 1st list is\n",
      "10\n",
      "20\n",
      "30\n",
      "40\n"
     ]
    }
   ],
   "source": [
    "# 23. Develop a program that extracts unique elements from a list and stores them in a new list using a list comprehension.\n",
    "\n",
    "# function to get unique values\n",
    "def unique(list1):\n",
    "\n",
    "\t# initialize a null list\n",
    "\tunique_list = []\n",
    "\n",
    "\t# traverse for all elements\n",
    "\tfor x in list1:\n",
    "\t\t# check if exists in unique_list or not\n",
    "\t\tif x not in unique_list:\n",
    "\t\t\tunique_list.append(x)\n",
    "\t# print list\n",
    "\tfor x in unique_list:\n",
    "\t\tprint(x)\n",
    "\n",
    "\n",
    "# driver code\n",
    "list1 = [10, 20, 10, 30, 40, 40]\n",
    "print(\"the unique values from 1st list is\")\n",
    "unique(list1)\n"
   ]
  },
  {
   "cell_type": "code",
   "execution_count": 4,
   "id": "31fb3aac-734c-4c37-9ced-823ff3e2e86c",
   "metadata": {},
   "outputs": [
    {
     "name": "stdout",
     "output_type": "stream",
     "text": [
      "121\n",
      "141\n",
      "252\n",
      "Total palindrome nos. are 3\n"
     ]
    }
   ],
   "source": [
    "#24. Create a program that generates a list of all palindromic numbers up to a specified limit using a list comprehension.\n",
    "\n",
    "def palindromeNumbers(list_a):\n",
    "\tc = 0\n",
    "\tfor i in list_a:\n",
    "\t\tif str(i) == str(i)[::-1]:\n",
    "\t\t\tprint(i)\n",
    "\t\t\tc += 1\n",
    "\tprint(\"Total palindrome nos. are\", c)\n",
    "\n",
    "\n",
    "list_a = [10, 121, 133, 155, 141, 252]\n",
    "palindromeNumbers(list_a)\n"
   ]
  },
  {
   "cell_type": "code",
   "execution_count": 5,
   "id": "8daecb62-eafe-4d54-80d5-683510413685",
   "metadata": {},
   "outputs": [
    {
     "name": "stdout",
     "output_type": "stream",
     "text": [
      "[1, 2, 3, 4, 5, 6, 7]\n"
     ]
    }
   ],
   "source": [
    "#25. Write a program to flatten a nested list using list comprehension.\n",
    "#Create an empty list flat_list.\n",
    "my_list = [[1], [2, 3], [4, 5, 6, 7]]\n",
    "#Access each element of the sublist using a nested loop and append that element to flat_list.\n",
    "flat_list = []\n",
    "for sublist in my_list:\n",
    "    for num in sublist:\n",
    "        flat_list.append(num)\n",
    "\n",
    "print(flat_list)"
   ]
  },
  {
   "cell_type": "code",
   "execution_count": 18,
   "id": "894a3afd-ac0c-40a8-9281-34068d6bc039",
   "metadata": {},
   "outputs": [
    {
     "name": "stdout",
     "output_type": "stream",
     "text": [
      "The list of even numbers:  [2, 8, 10, 14]\n",
      "The total of even numbers in the list:  34\n",
      "The list of odd numbers:  [5, 7, 15]\n",
      "The total of odd numbers in the list:  27\n"
     ]
    }
   ],
   "source": [
    "#26. Develop a program that computes the sum of even and odd numbers in a list separately using list comprehension.\n",
    "list= [2, 5, 7, 8, 10, 15, 14]\n",
    "even=[]\n",
    "for i in list:\n",
    "    if i%2==0:\n",
    "        even.append(i)\n",
    "print(\"The list of even numbers: \", even)\n",
    "print(\"The total of even numbers in the list: \", sum(even))\n",
    "odd=[]\n",
    "for i in list:\n",
    "    if i%2!=0:\n",
    "        odd.append(i)\n",
    "print(\"The list of odd numbers: \", odd)\n",
    "print(\"The total of odd numbers in the list: \", sum(odd))\n",
    "        "
   ]
  },
  {
   "cell_type": "code",
   "execution_count": 27,
   "id": "638364b2-d924-4668-affa-4fb1dd95179b",
   "metadata": {},
   "outputs": [
    {
     "name": "stdout",
     "output_type": "stream",
     "text": [
      "The square of odd numbers between 1 to 10 is:  [1, 9, 25, 49, 81]\n"
     ]
    }
   ],
   "source": [
    "#27. Create a program that generates a list of squares of odd numbers between 1 and 10 using list comprehension.\n",
    "list= range(1, 11)\n",
    "odd_sq=[]\n",
    "for i in list:\n",
    "    if i%2!=0:\n",
    "        i = i*i\n",
    "        odd_sq.append(i)\n",
    "print(\"The square of odd numbers between 1 to 10 is: \", odd_sq)"
   ]
  },
  {
   "cell_type": "code",
   "execution_count": 29,
   "id": "d8c305c0-37ec-4a8f-9dff-5762ef4ac9e8",
   "metadata": {},
   "outputs": [
    {
     "name": "stdout",
     "output_type": "stream",
     "text": [
      "{1: 'one', 2: 'two', 3: 'three', 4: 'four', 5: 'five', 6: 'six', 7: 'seven', 8: 'eight', 9: 'nine', 10: 'ten'}\n"
     ]
    }
   ],
   "source": [
    "#28. Write a program that combines two lists into a dictionary using list comprehension.\n",
    "list1= [1, 2, 3, 4, 5, 6, 7, 8, 9, 10]\n",
    "list2= ['one', 'two', 'three', 'four', 'five', 'six', 'seven', 'eight', 'nine', 'ten']\n",
    "dictionary= dict(zip(list1, list2))\n",
    "print(dictionary)"
   ]
  },
  {
   "cell_type": "code",
   "execution_count": 35,
   "id": "58a9ee66-312a-4e4b-9d90-f1df6e2a5a38",
   "metadata": {},
   "outputs": [
    {
     "name": "stdin",
     "output_type": "stream",
     "text": [
      "Enter a string:  ambika\n"
     ]
    },
    {
     "name": "stdout",
     "output_type": "stream",
     "text": [
      "['a', 'i', 'a']\n"
     ]
    }
   ],
   "source": [
    "#29. Develop a program that extracts the vowels from a string and stores them in a list using list comprehension.\n",
    "string= input(\"Enter a string: \")\n",
    "list= []\n",
    "vowel = 'aeiouaeiou'\n",
    "for i in string:\n",
    "    if i in vowel:\n",
    "            list.append(i)\n",
    "print(list)"
   ]
  },
  {
   "cell_type": "code",
   "execution_count": 46,
   "id": "3f3c57ae-54d6-4dd1-b797-d80d719a0fcc",
   "metadata": {},
   "outputs": [
    {
     "name": "stdout",
     "output_type": "stream",
     "text": [
      "['four', 'three', 'six']\n"
     ]
    }
   ],
   "source": [
    "#30. Create a program that removes all non-numeric characters from a list of strings using list comprehension.\n",
    "\n",
    "def remove(s):\n",
    "\tdigits = \"0123456789\"\n",
    "\tfor i in digits:\n",
    "\t\ts = s.replace(i, \"\")\n",
    "\treturn s\n",
    "\n",
    "# Driver code\n",
    "res = []\n",
    "list = ['4four', '5three', '3six']\n",
    "for i in list:\n",
    "\tres.append(remove(i))\n",
    "print(res)\n"
   ]
  },
  {
   "cell_type": "code",
   "execution_count": 1,
   "id": "f51b160a-4aca-452b-b49a-19f1a10db97e",
   "metadata": {},
   "outputs": [
    {
     "name": "stdin",
     "output_type": "stream",
     "text": [
      "Enter the number 50\n"
     ]
    },
    {
     "name": "stdout",
     "output_type": "stream",
     "text": [
      "2 3 5 7 11 13 17 19 23 29 31 37 41 43 47 "
     ]
    }
   ],
   "source": [
    "#31. Write a program to generate a list of prime numbers using the Sieve of Eratosthenes algorithm and list comprehension.\n",
    "def prime_sieve(n):\n",
    "    prime=[0 for i in range(101)]\n",
    "    for i in range(2, n+1): #2 to 50\n",
    "        if prime [i]==0:\n",
    "            for j in range(i*i, n+1, i):\n",
    "                prime[j]=1 # 1 will be the numbers\n",
    "    for i in range(2, n+1):\n",
    "        if prime[i]==0:\n",
    "            print(i, end=' ')\n",
    "rng= int(input(\"Enter the number\"))\n",
    "prime_sieve(rng)"
   ]
  },
  {
   "cell_type": "code",
   "execution_count": 2,
   "id": "038f59f7-c890-4c88-88cc-2730e5a28e2e",
   "metadata": {},
   "outputs": [
    {
     "name": "stdin",
     "output_type": "stream",
     "text": [
      "Enter the value of n: 20\n"
     ]
    },
    {
     "name": "stdout",
     "output_type": "stream",
     "text": [
      "[(3, 4, 5), (8, 6, 10), (5, 12, 13), (15, 8, 17), (12, 16, 20)]\n"
     ]
    }
   ],
   "source": [
    "# 32. Create a program that generates a list of all Pythagorean triplets up to a specified limit using list comprehension.\n",
    "\n",
    "n = int(input(\"Enter the value of n:\"))\n",
    "\n",
    "a = 0\n",
    "b = 0\n",
    "c = 0\n",
    "m = 2\n",
    "triples = []\n",
    "\n",
    "while c < n:\n",
    "    for i in range(1, m, 1):\n",
    "        a = m*m - i*i\n",
    "        b = 2*m*i\n",
    "        c = m*m + i*i\n",
    "        if c > n:\n",
    "            break\n",
    "        triples.append((a, b, c))\n",
    "    m += 1\n",
    "\n",
    "print(triples)"
   ]
  },
  {
   "cell_type": "code",
   "execution_count": 1,
   "id": "cc7cabd5-d1f8-433f-bead-bce5c45f8a33",
   "metadata": {},
   "outputs": [
    {
     "name": "stdout",
     "output_type": "stream",
     "text": [
      "[[('b', 1), ('c', 1), ('d', 1)], [('b', 1), ('c', 1), ('d', 4)], [('b', 1), ('c', 1), ('d', 9)], [('b', 1), ('c', 4), ('d', 1)], [('b', 1), ('c', 4), ('d', 4)], [('b', 1), ('c', 4), ('d', 9)], [('b', 1), ('c', 9), ('d', 1)], [('b', 1), ('c', 9), ('d', 4)], [('b', 1), ('c', 9), ('d', 9)], [('b', 4), ('c', 1), ('d', 1)], [('b', 4), ('c', 1), ('d', 4)], [('b', 4), ('c', 1), ('d', 9)], [('b', 4), ('c', 4), ('d', 1)], [('b', 4), ('c', 4), ('d', 4)], [('b', 4), ('c', 4), ('d', 9)], [('b', 4), ('c', 9), ('d', 1)], [('b', 4), ('c', 9), ('d', 4)], [('b', 4), ('c', 9), ('d', 9)], [('b', 9), ('c', 1), ('d', 1)], [('b', 9), ('c', 1), ('d', 4)], [('b', 9), ('c', 1), ('d', 9)], [('b', 9), ('c', 4), ('d', 1)], [('b', 9), ('c', 4), ('d', 4)], [('b', 9), ('c', 4), ('d', 9)], [('b', 9), ('c', 9), ('d', 1)], [('b', 9), ('c', 9), ('d', 4)], [('b', 9), ('c', 9), ('d', 9)]]\n"
     ]
    }
   ],
   "source": [
    "#33. Develop a program that generates a list of all possible combinations of two lists using list comprehension.\n",
    "# python program to demonstrate\n",
    "# unique combination of two lists\n",
    "# using zip() and product() of itertools\n",
    "\n",
    "# import itertools package\n",
    "import itertools\n",
    "from itertools import product\n",
    "\n",
    "# initialize lists\n",
    "list_1 = [\"b\",\"c\",\"d\"]\n",
    "list_2 = [1,4,9]\n",
    "\n",
    "# create empty list to store the combinations\n",
    "unique_combinations = []\n",
    "\n",
    "# Extract Combination Mapping in two lists\n",
    "# using zip() + product()\n",
    "unique_combinations = list(list(zip(list_1, element))\n",
    "\t\t\t\t\t\tfor element in product(list_2, repeat = len(list_1)))\n",
    "\n",
    "# printing unique_combination list\n",
    "print(unique_combinations)\n"
   ]
  },
  {
   "cell_type": "code",
   "execution_count": 2,
   "id": "6aee2df4-ea7d-48ed-b3d5-f795616d2bd2",
   "metadata": {},
   "outputs": [
    {
     "name": "stdout",
     "output_type": "stream",
     "text": [
      "Mean / Average is: 3.0\n"
     ]
    }
   ],
   "source": [
    "# 34. Write a program that calculates the mean, median, and mode of a list of numbers using list comprehension.\n",
    "# mean of elements\n",
    "\n",
    "# list of elements to calculate mean\n",
    "n_num = [1, 2, 3, 4, 5]\n",
    "n = len(n_num)\n",
    "\n",
    "get_sum = sum(n_num)\n",
    "mean = get_sum / n\n",
    "\n",
    "print(\"Mean / Average is: \" + str(mean))\n"
   ]
  },
  {
   "cell_type": "code",
   "execution_count": 3,
   "id": "cc0465ee-aac0-4129-9693-009b8c23772c",
   "metadata": {},
   "outputs": [
    {
     "name": "stdout",
     "output_type": "stream",
     "text": [
      "Median is: 3\n"
     ]
    }
   ],
   "source": [
    "\n",
    "# 34. median of elements\n",
    "\n",
    "# list of elements to calculate median\n",
    "n_num = [1, 2, 3, 4, 5]\n",
    "n = len(n_num)\n",
    "n_num.sort()\n",
    "\n",
    "if n % 2 == 0:\n",
    "\tmedian1 = n_num[n//2]\n",
    "\tmedian2 = n_num[n//2 - 1]\n",
    "\tmedian = (median1 + median2)/2\n",
    "else:\n",
    "\tmedian = n_num[n//2]\n",
    "print(\"Median is: \" + str(median))\n"
   ]
  },
  {
   "cell_type": "code",
   "execution_count": 8,
   "id": "e8b44188-3223-4b19-9ff6-98be1ff17808",
   "metadata": {},
   "outputs": [
    {
     "name": "stdout",
     "output_type": "stream",
     "text": [
      "8\n"
     ]
    }
   ],
   "source": [
    "# 34 mode of elements\n",
    "number_list = [1, 2, 2, 3, 4, 4, 5, 5, 6, 7, 8, 8, 8]\n",
    "uniq_values = []\n",
    "mode_values = []\n",
    "for i in number_list:\n",
    "\tif i not in uniq_values:\n",
    "\t\tuniq_values.append(i)\n",
    "\telse:\n",
    "\t\tmode_values.append(i)\n",
    "print(max(set(mode_values)))"
   ]
  },
  {
   "cell_type": "code",
   "execution_count": 9,
   "id": "b5125829-4e48-459f-bea7-1a1cf807013f",
   "metadata": {},
   "outputs": [
    {
     "name": "stdout",
     "output_type": "stream",
     "text": [
      "      1 \n",
      "     1 1 \n",
      "    1 2 1 \n",
      "   1 3 3 1 \n",
      "  1 4 6 4 1 \n"
     ]
    }
   ],
   "source": [
    "#35. Create a program that generates Pascal's triangle up to a specified number of rows using list comprehension.\n",
    "# Print Pascal's Triangle in Python\n",
    "from math import factorial\n",
    "\n",
    "# input n\n",
    "n = 5\n",
    "for i in range(n):\n",
    "\tfor j in range(n-i+1):\n",
    "\n",
    "\t\t# for left spacing\n",
    "\t\tprint(end=\" \")\n",
    "\n",
    "\tfor j in range(i+1):\n",
    "\n",
    "\t\t# nCr = n!/((n-r)!*r!)\n",
    "\t\tprint(factorial(i)//(factorial(j)*factorial(i-j)), end=\" \")\n",
    "\n",
    "\t# for new line\n",
    "\tprint()\n"
   ]
  },
  {
   "cell_type": "code",
   "execution_count": 10,
   "id": "ccf326c7-fc7d-4c0e-bb47-fd1d0e2a36a8",
   "metadata": {},
   "outputs": [
    {
     "name": "stdout",
     "output_type": "stream",
     "text": [
      "The original list is : [12, 67, 98, 34]\n",
      "List Integer Summation : [3, 13, 17, 7]\n"
     ]
    }
   ],
   "source": [
    "#36. Develop a program that calculates the sum of the digits of a factorial of numbers from 1 to 5 using list comprehension.\n",
    "\n",
    "# using loop + str()\n",
    "\n",
    "# Initializing list\n",
    "test_list = [12, 67, 98, 34]\n",
    "\n",
    "# printing original list\n",
    "print(\"The original list is : \" + str(test_list))\n",
    "\n",
    "# Sum of number digits in List\n",
    "# using loop + str()\n",
    "res = []\n",
    "for ele in test_list:\n",
    "\tsum = 0\n",
    "\tfor digit in str(ele):\n",
    "\t\tsum += int(digit)\n",
    "\tres.append(sum)\n",
    "\t\n",
    "# printing result\n",
    "print (\"List Integer Summation : \" + str(res))\n"
   ]
  },
  {
   "cell_type": "code",
   "execution_count": 11,
   "id": "9d84e025-000a-4947-9f32-cdf2aff71130",
   "metadata": {},
   "outputs": [
    {
     "name": "stdout",
     "output_type": "stream",
     "text": [
      "confident\n"
     ]
    }
   ],
   "source": [
    "# 37. Write a program that finds the longest word in a sentence using list comprehension.\n",
    "\n",
    "# Function to print the longest word in the string s\n",
    "\n",
    "def longestword(s):\n",
    "\t\n",
    "\t#splitting the string into words\n",
    "\ts=s.split()\n",
    "\t# Using max() method\n",
    "\tprint(max(s,key=len))\n",
    "\n",
    "\n",
    "# Driver Code\n",
    "if __name__ == \"__main__\":\n",
    "\n",
    "\t# Given string\n",
    "\ts = \"be confident and be yourself\"\n",
    "\n",
    "\n",
    "\t#calling longestword function\n",
    "\tlongestword(s)\n",
    "#This code contributed by tvsk\n"
   ]
  },
  {
   "cell_type": "code",
   "execution_count": 12,
   "id": "2c31c85f-e16e-4720-9128-ddcbd517ff0a",
   "metadata": {},
   "outputs": [
    {
     "name": "stdout",
     "output_type": "stream",
     "text": [
      "The original list is : ['good', 'best', 'for', 'you']\n",
      "Maximum vowels word : good\n"
     ]
    }
   ],
   "source": [
    "# 38. Create a program that filters a list of strings to include only those with more than three vowels using list comprehension.\n",
    "# Initializing Matrix\n",
    "test_list = [\"good\", \"best\", \"for\", \"you\"]\n",
    "\n",
    "# Printing original list\n",
    "print(\"The original list is : \" + str(test_list))\n",
    "\n",
    "res = \"\"\n",
    "max_len = 0\n",
    "\n",
    "for ele in test_list:\n",
    "\n",
    "\t# Getting maximum length and element iteratively\n",
    "\tvow_len = len([el for el in ele if el in ['a', 'e', 'o', 'u', 'i']])\n",
    "\t\n",
    "\tif vow_len > max_len:\n",
    "\t\tmax_len = vow_len\n",
    "\t\tres = ele\n",
    "\n",
    "# Printing result\n",
    "print(\"Maximum vowels word : \" + str(res))\n"
   ]
  },
  {
   "cell_type": "code",
   "execution_count": 14,
   "id": "af004bb5-924a-4719-9a38-5ee32c4fdb18",
   "metadata": {},
   "outputs": [
    {
     "name": "stdout",
     "output_type": "stream",
     "text": [
      "The original list is : range(1, 1001)\n",
      "List Integer Summation : [1, 2, 3, 4, 5, 6, 7, 8, 9, 1, 2, 3, 4, 5, 6, 7, 8, 9, 10, 2, 3, 4, 5, 6, 7, 8, 9, 10, 11, 3, 4, 5, 6, 7, 8, 9, 10, 11, 12, 4, 5, 6, 7, 8, 9, 10, 11, 12, 13, 5, 6, 7, 8, 9, 10, 11, 12, 13, 14, 6, 7, 8, 9, 10, 11, 12, 13, 14, 15, 7, 8, 9, 10, 11, 12, 13, 14, 15, 16, 8, 9, 10, 11, 12, 13, 14, 15, 16, 17, 9, 10, 11, 12, 13, 14, 15, 16, 17, 18, 1, 2, 3, 4, 5, 6, 7, 8, 9, 10, 2, 3, 4, 5, 6, 7, 8, 9, 10, 11, 3, 4, 5, 6, 7, 8, 9, 10, 11, 12, 4, 5, 6, 7, 8, 9, 10, 11, 12, 13, 5, 6, 7, 8, 9, 10, 11, 12, 13, 14, 6, 7, 8, 9, 10, 11, 12, 13, 14, 15, 7, 8, 9, 10, 11, 12, 13, 14, 15, 16, 8, 9, 10, 11, 12, 13, 14, 15, 16, 17, 9, 10, 11, 12, 13, 14, 15, 16, 17, 18, 10, 11, 12, 13, 14, 15, 16, 17, 18, 19, 2, 3, 4, 5, 6, 7, 8, 9, 10, 11, 3, 4, 5, 6, 7, 8, 9, 10, 11, 12, 4, 5, 6, 7, 8, 9, 10, 11, 12, 13, 5, 6, 7, 8, 9, 10, 11, 12, 13, 14, 6, 7, 8, 9, 10, 11, 12, 13, 14, 15, 7, 8, 9, 10, 11, 12, 13, 14, 15, 16, 8, 9, 10, 11, 12, 13, 14, 15, 16, 17, 9, 10, 11, 12, 13, 14, 15, 16, 17, 18, 10, 11, 12, 13, 14, 15, 16, 17, 18, 19, 11, 12, 13, 14, 15, 16, 17, 18, 19, 20, 3, 4, 5, 6, 7, 8, 9, 10, 11, 12, 4, 5, 6, 7, 8, 9, 10, 11, 12, 13, 5, 6, 7, 8, 9, 10, 11, 12, 13, 14, 6, 7, 8, 9, 10, 11, 12, 13, 14, 15, 7, 8, 9, 10, 11, 12, 13, 14, 15, 16, 8, 9, 10, 11, 12, 13, 14, 15, 16, 17, 9, 10, 11, 12, 13, 14, 15, 16, 17, 18, 10, 11, 12, 13, 14, 15, 16, 17, 18, 19, 11, 12, 13, 14, 15, 16, 17, 18, 19, 20, 12, 13, 14, 15, 16, 17, 18, 19, 20, 21, 4, 5, 6, 7, 8, 9, 10, 11, 12, 13, 5, 6, 7, 8, 9, 10, 11, 12, 13, 14, 6, 7, 8, 9, 10, 11, 12, 13, 14, 15, 7, 8, 9, 10, 11, 12, 13, 14, 15, 16, 8, 9, 10, 11, 12, 13, 14, 15, 16, 17, 9, 10, 11, 12, 13, 14, 15, 16, 17, 18, 10, 11, 12, 13, 14, 15, 16, 17, 18, 19, 11, 12, 13, 14, 15, 16, 17, 18, 19, 20, 12, 13, 14, 15, 16, 17, 18, 19, 20, 21, 13, 14, 15, 16, 17, 18, 19, 20, 21, 22, 5, 6, 7, 8, 9, 10, 11, 12, 13, 14, 6, 7, 8, 9, 10, 11, 12, 13, 14, 15, 7, 8, 9, 10, 11, 12, 13, 14, 15, 16, 8, 9, 10, 11, 12, 13, 14, 15, 16, 17, 9, 10, 11, 12, 13, 14, 15, 16, 17, 18, 10, 11, 12, 13, 14, 15, 16, 17, 18, 19, 11, 12, 13, 14, 15, 16, 17, 18, 19, 20, 12, 13, 14, 15, 16, 17, 18, 19, 20, 21, 13, 14, 15, 16, 17, 18, 19, 20, 21, 22, 14, 15, 16, 17, 18, 19, 20, 21, 22, 23, 6, 7, 8, 9, 10, 11, 12, 13, 14, 15, 7, 8, 9, 10, 11, 12, 13, 14, 15, 16, 8, 9, 10, 11, 12, 13, 14, 15, 16, 17, 9, 10, 11, 12, 13, 14, 15, 16, 17, 18, 10, 11, 12, 13, 14, 15, 16, 17, 18, 19, 11, 12, 13, 14, 15, 16, 17, 18, 19, 20, 12, 13, 14, 15, 16, 17, 18, 19, 20, 21, 13, 14, 15, 16, 17, 18, 19, 20, 21, 22, 14, 15, 16, 17, 18, 19, 20, 21, 22, 23, 15, 16, 17, 18, 19, 20, 21, 22, 23, 24, 7, 8, 9, 10, 11, 12, 13, 14, 15, 16, 8, 9, 10, 11, 12, 13, 14, 15, 16, 17, 9, 10, 11, 12, 13, 14, 15, 16, 17, 18, 10, 11, 12, 13, 14, 15, 16, 17, 18, 19, 11, 12, 13, 14, 15, 16, 17, 18, 19, 20, 12, 13, 14, 15, 16, 17, 18, 19, 20, 21, 13, 14, 15, 16, 17, 18, 19, 20, 21, 22, 14, 15, 16, 17, 18, 19, 20, 21, 22, 23, 15, 16, 17, 18, 19, 20, 21, 22, 23, 24, 16, 17, 18, 19, 20, 21, 22, 23, 24, 25, 8, 9, 10, 11, 12, 13, 14, 15, 16, 17, 9, 10, 11, 12, 13, 14, 15, 16, 17, 18, 10, 11, 12, 13, 14, 15, 16, 17, 18, 19, 11, 12, 13, 14, 15, 16, 17, 18, 19, 20, 12, 13, 14, 15, 16, 17, 18, 19, 20, 21, 13, 14, 15, 16, 17, 18, 19, 20, 21, 22, 14, 15, 16, 17, 18, 19, 20, 21, 22, 23, 15, 16, 17, 18, 19, 20, 21, 22, 23, 24, 16, 17, 18, 19, 20, 21, 22, 23, 24, 25, 17, 18, 19, 20, 21, 22, 23, 24, 25, 26, 9, 10, 11, 12, 13, 14, 15, 16, 17, 18, 10, 11, 12, 13, 14, 15, 16, 17, 18, 19, 11, 12, 13, 14, 15, 16, 17, 18, 19, 20, 12, 13, 14, 15, 16, 17, 18, 19, 20, 21, 13, 14, 15, 16, 17, 18, 19, 20, 21, 22, 14, 15, 16, 17, 18, 19, 20, 21, 22, 23, 15, 16, 17, 18, 19, 20, 21, 22, 23, 24, 16, 17, 18, 19, 20, 21, 22, 23, 24, 25, 17, 18, 19, 20, 21, 22, 23, 24, 25, 26, 18, 19, 20, 21, 22, 23, 24, 25, 26, 27, 1]\n"
     ]
    }
   ],
   "source": [
    "#39. Develop a program that calculates the sum of the digits of numbers from 1 to 1000 using list comprehension.\n",
    "# using loop + str()\n",
    "\n",
    "# Initializing list\n",
    "test_list = range(1, 1001)\n",
    "\n",
    "# printing original list\n",
    "print(\"The original list is : \" + str(test_list))\n",
    "\n",
    "# Sum of number digits in List\n",
    "# using loop + str()\n",
    "res = []\n",
    "for ele in test_list:\n",
    "\tsum = 0\n",
    "\tfor digit in str(ele):\n",
    "\t\tsum += int(digit)\n",
    "\tres.append(sum)\n",
    "\t\n",
    "# printing result\n",
    "print (\"List Integer Summation : \" + str(res))"
   ]
  },
  {
   "cell_type": "code",
   "execution_count": 15,
   "id": "56ba5c38-50ec-4b61-9ac8-8073a254dea0",
   "metadata": {},
   "outputs": [
    {
     "name": "stdout",
     "output_type": "stream",
     "text": [
      "121\n",
      "141\n",
      "252\n",
      "Total palindrome nos. are 3\n"
     ]
    }
   ],
   "source": [
    "#40. Write a program that generates a list of prime palindromic numbers using list comprehension.\n",
    "# Python program to count and\n",
    "# print all palindrome numbers in a list.\n",
    "\n",
    "def palindromeNumbers(list_a):\n",
    "\tc = 0\n",
    "\tfor i in list_a:\n",
    "\t\tif str(i) == str(i)[::-1]:\n",
    "\t\t\tprint(i)\n",
    "\t\t\tc += 1\n",
    "\tprint(\"Total palindrome nos. are\", c)\n",
    "\n",
    "\n",
    "list_a = [10, 121, 133, 155, 141, 252]\n",
    "palindromeNumbers(list_a)\n"
   ]
  },
  {
   "cell_type": "code",
   "execution_count": null,
   "id": "8037b67a-89e3-447f-9b0d-5d6457d441c2",
   "metadata": {},
   "outputs": [],
   "source": []
  }
 ],
 "metadata": {
  "kernelspec": {
   "display_name": "Python 3 (ipykernel)",
   "language": "python",
   "name": "python3"
  },
  "language_info": {
   "codemirror_mode": {
    "name": "ipython",
    "version": 3
   },
   "file_extension": ".py",
   "mimetype": "text/x-python",
   "name": "python",
   "nbconvert_exporter": "python",
   "pygments_lexer": "ipython3",
   "version": "3.10.8"
  }
 },
 "nbformat": 4,
 "nbformat_minor": 5
}
